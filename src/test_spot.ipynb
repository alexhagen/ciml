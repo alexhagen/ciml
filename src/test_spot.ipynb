{
 "cells": [
  {
   "cell_type": "code",
   "execution_count": 1,
   "metadata": {},
   "outputs": [],
   "source": [
    "from ciml import spot"
   ]
  },
  {
   "cell_type": "code",
   "execution_count": 2,
   "metadata": {},
   "outputs": [
    {
     "name": "stdout",
     "output_type": "stream",
     "text": [
      "knn-11\n",
      "knn-10\n",
      "knn-13\n",
      "knn-12\n",
      "knn-15\n",
      "knn-14\n",
      "knn-17\n",
      "knn-16\n",
      "knn-19\n",
      "knn-18\n",
      "ridge-0.9\n",
      "ridge-0.8\n",
      "et\n",
      "ridge-0.1\n",
      "svmr0.7\n",
      "ridge-0.3\n",
      "ridge-0.2\n",
      "ridge-0.5\n",
      "sgd\n",
      "ridge-0.7\n",
      "ridge-0.6\n",
      "svmr1.0\n",
      "bag\n",
      "extra\n",
      "ridge-0.4\n",
      "rf\n",
      "pa\n",
      "ada\n",
      "svmr0.3\n",
      "svmr0.2\n",
      "svmr0.1\n",
      "ridge-1.0\n",
      "svmr0.6\n",
      "svmr0.5\n",
      "svmr0.4\n",
      "svml\n",
      "svmr0.9\n",
      "svmr0.8\n",
      "knn-20\n",
      "cart\n",
      "svmp\n",
      "bayes\n",
      "gbm\n",
      "knn-9\n",
      "knn-8\n",
      "logistic\n",
      "knn-1\n",
      "knn-3\n",
      "knn-2\n",
      "knn-5\n",
      "knn-4\n",
      "knn-7\n",
      "knn-6\n"
     ]
    }
   ],
   "source": [
    "problem = spot.spot()"
   ]
  },
  {
   "cell_type": "code",
   "execution_count": null,
   "metadata": {},
   "outputs": [],
   "source": []
  }
 ],
 "metadata": {
  "kernelspec": {
   "display_name": "Python 2",
   "language": "python",
   "name": "python2"
  },
  "language_info": {
   "codemirror_mode": {
    "name": "ipython",
    "version": 2
   },
   "file_extension": ".py",
   "mimetype": "text/x-python",
   "name": "python",
   "nbconvert_exporter": "python",
   "pygments_lexer": "ipython2",
   "version": "2.7.15"
  }
 },
 "nbformat": 4,
 "nbformat_minor": 2
}
